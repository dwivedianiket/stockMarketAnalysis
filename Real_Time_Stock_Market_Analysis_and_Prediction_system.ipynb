{
  "nbformat": 4,
  "nbformat_minor": 0,
  "metadata": {
    "colab": {
      "provenance": [],
      "authorship_tag": "ABX9TyPBAQhUS/fxV8iXIZ8Gt6hg",
      "include_colab_link": true
    },
    "kernelspec": {
      "name": "python3",
      "display_name": "Python 3"
    },
    "language_info": {
      "name": "python"
    }
  },
  "cells": [
    {
      "cell_type": "markdown",
      "metadata": {
        "id": "view-in-github",
        "colab_type": "text"
      },
      "source": [
        "<a href=\"https://colab.research.google.com/github/dwivedianiket/stockMarketAnalysis/blob/main/Real_Time_Stock_Market_Analysis_and_Prediction_system.ipynb\" target=\"_parent\"><img src=\"https://colab.research.google.com/assets/colab-badge.svg\" alt=\"Open In Colab\"/></a>"
      ]
    },
    {
      "cell_type": "code",
      "source": [
        "!pip install --upgrade pip\n",
        "!pip install dash\n",
        "!pip install plotly\n",
        "!pip install pyngrok\n",
        "!pip install --upgrade pip setuptools\n"
      ],
      "metadata": {
        "colab": {
          "base_uri": "https://localhost:8080/"
        },
        "id": "gP9J9R_cVGNZ",
        "outputId": "2e761a50-3b68-4587-9c07-b6dbe61b98a8"
      },
      "execution_count": 1,
      "outputs": [
        {
          "output_type": "stream",
          "name": "stdout",
          "text": [
            "Requirement already satisfied: pip in /usr/local/lib/python3.10/dist-packages (24.2)\n",
            "Requirement already satisfied: dash in /usr/local/lib/python3.10/dist-packages (2.17.1)\n",
            "Requirement already satisfied: Flask<3.1,>=1.0.4 in /usr/local/lib/python3.10/dist-packages (from dash) (2.2.5)\n",
            "Requirement already satisfied: Werkzeug<3.1 in /usr/local/lib/python3.10/dist-packages (from dash) (3.0.4)\n",
            "Requirement already satisfied: plotly>=5.0.0 in /usr/local/lib/python3.10/dist-packages (from dash) (5.15.0)\n",
            "Requirement already satisfied: dash-html-components==2.0.0 in /usr/local/lib/python3.10/dist-packages (from dash) (2.0.0)\n",
            "Requirement already satisfied: dash-core-components==2.0.0 in /usr/local/lib/python3.10/dist-packages (from dash) (2.0.0)\n",
            "Requirement already satisfied: dash-table==5.0.0 in /usr/local/lib/python3.10/dist-packages (from dash) (5.0.0)\n",
            "Requirement already satisfied: importlib-metadata in /usr/local/lib/python3.10/dist-packages (from dash) (8.4.0)\n",
            "Requirement already satisfied: typing-extensions>=4.1.1 in /usr/local/lib/python3.10/dist-packages (from dash) (4.12.2)\n",
            "Requirement already satisfied: requests in /usr/local/lib/python3.10/dist-packages (from dash) (2.32.3)\n",
            "Requirement already satisfied: retrying in /usr/local/lib/python3.10/dist-packages (from dash) (1.3.4)\n",
            "Requirement already satisfied: nest-asyncio in /usr/local/lib/python3.10/dist-packages (from dash) (1.6.0)\n",
            "Requirement already satisfied: setuptools in /usr/local/lib/python3.10/dist-packages (from dash) (74.0.0)\n",
            "Requirement already satisfied: Jinja2>=3.0 in /usr/local/lib/python3.10/dist-packages (from Flask<3.1,>=1.0.4->dash) (3.1.4)\n",
            "Requirement already satisfied: itsdangerous>=2.0 in /usr/local/lib/python3.10/dist-packages (from Flask<3.1,>=1.0.4->dash) (2.2.0)\n",
            "Requirement already satisfied: click>=8.0 in /usr/local/lib/python3.10/dist-packages (from Flask<3.1,>=1.0.4->dash) (8.1.7)\n",
            "Requirement already satisfied: tenacity>=6.2.0 in /usr/local/lib/python3.10/dist-packages (from plotly>=5.0.0->dash) (9.0.0)\n",
            "Requirement already satisfied: packaging in /usr/local/lib/python3.10/dist-packages (from plotly>=5.0.0->dash) (24.1)\n",
            "Requirement already satisfied: MarkupSafe>=2.1.1 in /usr/local/lib/python3.10/dist-packages (from Werkzeug<3.1->dash) (2.1.5)\n",
            "Requirement already satisfied: zipp>=0.5 in /usr/local/lib/python3.10/dist-packages (from importlib-metadata->dash) (3.20.1)\n",
            "Requirement already satisfied: charset-normalizer<4,>=2 in /usr/local/lib/python3.10/dist-packages (from requests->dash) (3.3.2)\n",
            "Requirement already satisfied: idna<4,>=2.5 in /usr/local/lib/python3.10/dist-packages (from requests->dash) (3.8)\n",
            "Requirement already satisfied: urllib3<3,>=1.21.1 in /usr/local/lib/python3.10/dist-packages (from requests->dash) (2.0.7)\n",
            "Requirement already satisfied: certifi>=2017.4.17 in /usr/local/lib/python3.10/dist-packages (from requests->dash) (2024.7.4)\n",
            "Requirement already satisfied: six>=1.7.0 in /usr/local/lib/python3.10/dist-packages (from retrying->dash) (1.16.0)\n",
            "Requirement already satisfied: plotly in /usr/local/lib/python3.10/dist-packages (5.15.0)\n",
            "Requirement already satisfied: tenacity>=6.2.0 in /usr/local/lib/python3.10/dist-packages (from plotly) (9.0.0)\n",
            "Requirement already satisfied: packaging in /usr/local/lib/python3.10/dist-packages (from plotly) (24.1)\n",
            "Requirement already satisfied: pyngrok in /usr/local/lib/python3.10/dist-packages (7.2.0)\n",
            "Requirement already satisfied: PyYAML>=5.1 in /usr/local/lib/python3.10/dist-packages (from pyngrok) (6.0.2)\n",
            "Requirement already satisfied: pip in /usr/local/lib/python3.10/dist-packages (24.2)\n",
            "Requirement already satisfied: setuptools in /usr/local/lib/python3.10/dist-packages (74.0.0)\n"
          ]
        }
      ]
    },
    {
      "cell_type": "markdown",
      "source": [
        "Data Collection"
      ],
      "metadata": {
        "id": "03Xyi6c6URji"
      }
    },
    {
      "cell_type": "code",
      "execution_count": 4,
      "metadata": {
        "colab": {
          "base_uri": "https://localhost:8080/"
        },
        "id": "fCuakgbwS29K",
        "outputId": "331db2e8-478c-4927-ec76-5f31448b6f4b"
      },
      "outputs": [
        {
          "output_type": "stream",
          "name": "stdout",
          "text": [
            "                        Open    High      Low     Close  Volume\n",
            "2024-08-30 19:59:00  229.200  229.20  229.100  229.1500   237.0\n",
            "2024-08-30 19:58:00  229.190  229.22  229.130  229.1991   618.0\n",
            "2024-08-30 19:57:00  229.170  229.20  229.040  229.2000   458.0\n",
            "2024-08-30 19:56:00  229.140  229.19  229.120  229.1600   792.0\n",
            "2024-08-30 19:55:00  229.095  229.14  229.095  229.1300   152.0\n"
          ]
        }
      ],
      "source": [
        "import requests\n",
        "import pandas as pd\n",
        "import time\n",
        "from sklearn.model_selection import train_test_split, GridSearchCV, TimeSeriesSplit\n",
        "from sklearn.ensemble import RandomForestRegressor\n",
        "from sklearn.metrics import mean_squared_error\n",
        "from sklearn.preprocessing import StandardScaler\n",
        "from dash import Dash, dcc, html\n",
        "import plotly.graph_objs as go\n",
        "from dash.dependencies import Input, Output\n",
        "from pyngrok import ngrok\n",
        "\n",
        "API_KEY = 'ISFQL7OJCVVEX6GC'  #Alpha Vantage API Key\n",
        "symbol = 'AAPL'  # Stock symbol\n",
        "\n",
        "def fetch_stock_data():\n",
        "    url = f'https://www.alphavantage.co/query?function=TIME_SERIES_INTRADAY&symbol={symbol}&interval=1min&apikey={API_KEY}'\n",
        "    response = requests.get(url)\n",
        "    data = response.json()\n",
        "    df = pd.DataFrame(data['Time Series (1min)']).transpose()\n",
        "    df.columns = ['Open', 'High', 'Low', 'Close', 'Volume']\n",
        "    df.index = pd.to_datetime(df.index)\n",
        "    df = df.astype(float)\n",
        "    return df\n",
        "\n",
        "df = fetch_stock_data()\n",
        "print(df.head())"
      ]
    },
    {
      "cell_type": "markdown",
      "source": [
        "Data Preprocessing"
      ],
      "metadata": {
        "id": "kUfXTF0YUVFn"
      }
    },
    {
      "cell_type": "code",
      "source": [
        "def preprocess_data(df):\n",
        "    # Calculate percentage change\n",
        "    df['Pct_Change'] = df['Close'].pct_change()\n",
        "\n",
        "    # Add lagged features\n",
        "    for lag in [1, 5, 10]:\n",
        "        df[f'Close_Lag_{lag}'] = df['Close'].shift(lag)\n",
        "        df[f'Volume_Lag_{lag}'] = df['Volume'].shift(lag)\n",
        "\n",
        "    # Calculate moving averages and volatility\n",
        "    df['Price_Change'] = df['Close'].diff()\n",
        "    df['SMA_10'] = df['Close'].rolling(window=10).mean()\n",
        "    df['SMA_50'] = df['Close'].rolling(window=50).mean()\n",
        "    df['Volatility'] = df['Close'].rolling(window=10).std()\n",
        "\n",
        "    # Drop rows with NaN values\n",
        "    df = df.dropna()\n",
        "\n",
        "    # Normalize features\n",
        "    scaler = StandardScaler()\n",
        "    features = ['Open', 'High', 'Low', 'Volume', 'SMA_10', 'SMA_50', 'Volatility', 'Pct_Change']\n",
        "    df.loc[:, features] = scaler.fit_transform(df[features])\n",
        "\n",
        "    return df\n",
        "\n",
        "df = preprocess_data(df)\n",
        "print(df.head())"
      ],
      "metadata": {
        "colab": {
          "base_uri": "https://localhost:8080/"
        },
        "id": "OdjxOFa0UYsG",
        "outputId": "25912960-5315-480a-baeb-35f2c7ae4b0d"
      },
      "execution_count": 5,
      "outputs": [
        {
          "output_type": "stream",
          "name": "stdout",
          "text": [
            "                         Open      High       Low    Close    Volume  \\\n",
            "2024-08-30 19:10:00  1.737768  1.571268  2.222214  229.180  0.207642   \n",
            "2024-08-30 19:09:00  1.643864  1.571268  2.126317  229.170 -0.382075   \n",
            "2024-08-30 19:08:00  1.643864  1.571268  2.126317  229.180 -0.407246   \n",
            "2024-08-30 19:07:00  1.456057  1.571268  1.742729  229.175  0.497107   \n",
            "2024-08-30 19:06:00  1.456057  1.358484  1.742729  229.150 -0.299371   \n",
            "\n",
            "                     Pct_Change  Close_Lag_1  Volume_Lag_1  Close_Lag_5  \\\n",
            "2024-08-30 19:10:00    1.383111      229.135         463.0      229.140   \n",
            "2024-08-30 19:09:00   -0.247002      229.180         352.0      229.190   \n",
            "2024-08-30 19:08:00    0.345684      229.170          24.0      229.140   \n",
            "2024-08-30 19:07:00   -0.098834      229.180          10.0      229.140   \n",
            "2024-08-30 19:06:00   -0.691523      229.175         513.0      229.135   \n",
            "\n",
            "                     Volume_Lag_5  Close_Lag_10  Volume_Lag_10  Price_Change  \\\n",
            "2024-08-30 19:10:00          13.0        229.15           18.0         0.045   \n",
            "2024-08-30 19:09:00        1152.0        229.15           16.0        -0.010   \n",
            "2024-08-30 19:08:00         590.0        229.09           96.0         0.010   \n",
            "2024-08-30 19:07:00           9.0        229.19           69.0        -0.005   \n",
            "2024-08-30 19:06:00         463.0        229.14            4.0        -0.025   \n",
            "\n",
            "                       SMA_10    SMA_50  Volatility  \n",
            "2024-08-30 19:10:00  1.197057  0.254735    0.377140  \n",
            "2024-08-30 19:09:00  1.240064  0.285454    0.441912  \n",
            "2024-08-30 19:08:00  1.433597  0.256117   -0.285448  \n",
            "2024-08-30 19:07:00  1.401341  0.217718   -0.444127  \n",
            "2024-08-30 19:06:00  1.422845  0.202359   -0.515404  \n"
          ]
        }
      ]
    },
    {
      "cell_type": "markdown",
      "source": [
        "Model Development"
      ],
      "metadata": {
        "id": "uGNYVmmxUbuA"
      }
    },
    {
      "cell_type": "code",
      "source": [
        "def train_model(df):\n",
        "    X = df[['Open', 'High', 'Low', 'Volume', 'SMA_10', 'SMA_50', 'Volatility', 'Pct_Change']].values\n",
        "    y = df['Close'].values\n",
        "\n",
        "    # TimeSeriesSplit for cross-validation\n",
        "    tscv = TimeSeriesSplit(n_splits=5)\n",
        "\n",
        "    model = RandomForestRegressor(random_state=42)\n",
        "    param_grid = {\n",
        "        'n_estimators': [50, 100, 200],\n",
        "        'max_depth': [10, 20, 30],\n",
        "        'min_samples_split': [2, 5, 10]\n",
        "    }\n",
        "\n",
        "    grid_search = GridSearchCV(model, param_grid, cv=tscv, scoring='neg_mean_squared_error')\n",
        "    grid_search.fit(X, y)\n",
        "\n",
        "    best_model = grid_search.best_estimator_\n",
        "    best_params = grid_search.best_params_\n",
        "\n",
        "    print(f'Best Parameters: {best_params}')\n",
        "\n",
        "    # Evaluate model\n",
        "    predictions = best_model.predict(X)\n",
        "    mse = mean_squared_error(y, predictions)\n",
        "    print(f'Mean Squared Error on full dataset: {mse}')\n",
        "\n",
        "    return best_model\n",
        "\n",
        "model = train_model(df)"
      ],
      "metadata": {
        "colab": {
          "base_uri": "https://localhost:8080/"
        },
        "id": "H5MtpUecUePI",
        "outputId": "de649f2e-f54c-420e-c1db-3249513a1d6d"
      },
      "execution_count": 6,
      "outputs": [
        {
          "output_type": "stream",
          "name": "stdout",
          "text": [
            "Best Parameters: {'max_depth': 10, 'min_samples_split': 5, 'n_estimators': 100}\n",
            "Mean Squared Error on full dataset: 7.662207047131854e-05\n"
          ]
        }
      ]
    },
    {
      "cell_type": "markdown",
      "source": [
        "Real-Time Prediction"
      ],
      "metadata": {
        "id": "0CNzKwa-Uth-"
      }
    },
    {
      "cell_type": "code",
      "source": [
        "def predict_real_time(df, model):\n",
        "    X_real_time = df[['Open', 'High', 'Low', 'Volume', 'SMA_10', 'SMA_50', 'Volatility', 'Pct_Change']].values[-1:]\n",
        "    prediction = model.predict(X_real_time)\n",
        "    return prediction\n",
        "\n",
        "df = fetch_stock_data()\n",
        "df = preprocess_data(df)\n",
        "model = train_model(df)\n",
        "\n",
        "# Fetch new data and make a prediction\n",
        "latest_data = fetch_stock_data()\n",
        "processed_data = preprocess_data(latest_data)\n",
        "prediction = predict_real_time(processed_data, model)\n",
        "print(f'Real-Time Prediction: {prediction[0]}')"
      ],
      "metadata": {
        "colab": {
          "base_uri": "https://localhost:8080/"
        },
        "id": "saABSVmwUyzu",
        "outputId": "8fb62d4d-27db-4d30-9ee9-af9d77ac1149"
      },
      "execution_count": 7,
      "outputs": [
        {
          "output_type": "stream",
          "name": "stdout",
          "text": [
            "Best Parameters: {'max_depth': 10, 'min_samples_split': 5, 'n_estimators': 100}\n",
            "Mean Squared Error on full dataset: 7.662207047131854e-05\n",
            "Real-Time Prediction: 229.0502785515872\n"
          ]
        }
      ]
    },
    {
      "cell_type": "markdown",
      "source": [
        "Visualization"
      ],
      "metadata": {
        "id": "RAi2QzL6U4Ln"
      }
    },
    {
      "cell_type": "code",
      "source": [
        "app = Dash(__name__)\n",
        "server = app.server\n",
        "app.layout = html.Div([\n",
        "    dcc.Graph(id='price-graph'),\n",
        "    dcc.Graph(id='volume-graph'),\n",
        "    dcc.Graph(id='sma-10-graph'),\n",
        "    dcc.Graph(id='sma-50-graph'),\n",
        "    dcc.Interval(id='interval-component', interval=1*60000, n_intervals=0)  # Update every 1 minute\n",
        "])\n",
        "ngrok.set_auth_token('2lWRfVpAMrVStCm2gsCfJfxPchP_6DF2rUafLYkkt9EKiKtNW')\n",
        "\n",
        "@app.callback(\n",
        "    Output('price-graph', 'figure'),\n",
        "    [Input('interval-component', 'n_intervals')]\n",
        ")\n",
        "def update_price_graph(n):\n",
        "    latest_data = fetch_stock_data()\n",
        "    processed_data = preprocess_data(latest_data)\n",
        "    prediction = predict_real_time(processed_data, model)\n",
        "\n",
        "    trace1 = go.Scatter(\n",
        "        x=processed_data.index,\n",
        "        y=processed_data['Close'],\n",
        "        mode='lines',\n",
        "        name='Actual Price'\n",
        "    )\n",
        "\n",
        "    trace2 = go.Scatter(\n",
        "        x=processed_data.index,\n",
        "        y=processed_data['SMA_10'],\n",
        "        mode='lines',\n",
        "        name='SMA 10'\n",
        "    )\n",
        "\n",
        "    trace3 = go.Scatter(\n",
        "        x=processed_data.index,\n",
        "        y=processed_data['SMA_50'],\n",
        "        mode='lines',\n",
        "        name='SMA 50'\n",
        "    )\n",
        "\n",
        "    trace4 = go.Scatter(\n",
        "        x=[processed_data.index[-1]],\n",
        "        y=[prediction[0]],\n",
        "        mode='markers',\n",
        "        name='Predicted Price',\n",
        "        marker=dict(size=10, color='red')\n",
        "    )\n",
        "\n",
        "    return {\n",
        "        'data': [trace1, trace2, trace3, trace4],\n",
        "        'layout': go.Layout(title=f'Real-Time Stock Price and SMA for {symbol}', xaxis_title='Time', yaxis_title='Price')\n",
        "    }\n",
        "\n",
        "@app.callback(\n",
        "    Output('volume-graph', 'figure'),\n",
        "    [Input('interval-component', 'n_intervals')]\n",
        ")\n",
        "def update_volume_graph(n):\n",
        "    latest_data = fetch_stock_data()\n",
        "    processed_data = preprocess_data(latest_data)\n",
        "\n",
        "    trace1 = go.Bar(\n",
        "        x=processed_data.index,\n",
        "        y=processed_data['Volume'],\n",
        "        name='Volume'\n",
        "    )\n",
        "\n",
        "    return {\n",
        "        'data': [trace1],\n",
        "        'layout': go.Layout(title=f'Real-Time Trading Volume for {symbol}', xaxis_title='Time', yaxis_title='Volume')\n",
        "    }\n",
        "@app.callback(\n",
        "    Output('sma-10-graph', 'figure'),\n",
        "    [Input('interval-component', 'n_intervals')]\n",
        ")\n",
        "def update_sma_10_graph(n):\n",
        "    latest_data = fetch_stock_data()\n",
        "    processed_data = preprocess_data(latest_data)\n",
        "\n",
        "    trace1 = go.Scatter(\n",
        "        x=processed_data.index,\n",
        "        y=processed_data['SMA_10'],\n",
        "        mode='lines',\n",
        "        name='SMA 10'\n",
        "    )\n",
        "\n",
        "    return {\n",
        "        'data': [trace1],\n",
        "        'layout': go.Layout(title=f'SMA 10 for {symbol}', xaxis_title='Time', yaxis_title='Price')\n",
        "    }\n",
        "\n",
        "@app.callback(\n",
        "    Output('sma-50-graph', 'figure'),\n",
        "    [Input('interval-component', 'n_intervals')]\n",
        ")\n",
        "def update_sma_50_graph(n):\n",
        "    latest_data = fetch_stock_data()\n",
        "    processed_data = preprocess_data(latest_data)\n",
        "\n",
        "    trace1 = go.Scatter(\n",
        "        x=processed_data.index,\n",
        "        y=processed_data['SMA_50'],\n",
        "        mode='lines',\n",
        "        name='SMA 50'\n",
        "    )\n",
        "\n",
        "    return {\n",
        "        'data': [trace1],\n",
        "        'layout': go.Layout(title=f'SMA 50 for {symbol}', xaxis_title='Time', yaxis_title='Price')\n",
        "    }\n",
        "\n",
        "\n",
        "if __name__ == '__main__':\n",
        "    app.run_server(debug=True)"
      ],
      "metadata": {
        "colab": {
          "base_uri": "https://localhost:8080/",
          "height": 671
        },
        "id": "CWb4g2ohU4-2",
        "outputId": "0199d177-f01d-4350-b2fb-8a91b35f8728"
      },
      "execution_count": 8,
      "outputs": [
        {
          "output_type": "display_data",
          "data": {
            "text/plain": [
              "<IPython.core.display.Javascript object>"
            ],
            "application/javascript": [
              "(async (port, path, width, height, cache, element) => {\n",
              "    if (!google.colab.kernel.accessAllowed && !cache) {\n",
              "      return;\n",
              "    }\n",
              "    element.appendChild(document.createTextNode(''));\n",
              "    const url = await google.colab.kernel.proxyPort(port, {cache});\n",
              "    const iframe = document.createElement('iframe');\n",
              "    iframe.src = new URL(path, url).toString();\n",
              "    iframe.height = height;\n",
              "    iframe.width = width;\n",
              "    iframe.style.border = 0;\n",
              "    iframe.allow = [\n",
              "        'accelerometer',\n",
              "        'autoplay',\n",
              "        'camera',\n",
              "        'clipboard-read',\n",
              "        'clipboard-write',\n",
              "        'gyroscope',\n",
              "        'magnetometer',\n",
              "        'microphone',\n",
              "        'serial',\n",
              "        'usb',\n",
              "        'xr-spatial-tracking',\n",
              "    ].join('; ');\n",
              "    element.appendChild(iframe);\n",
              "  })(8050, \"/\", \"100%\", 650, false, window.element)"
            ]
          },
          "metadata": {}
        }
      ]
    }
  ]
}