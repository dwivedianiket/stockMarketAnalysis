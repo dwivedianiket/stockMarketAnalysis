{
  "nbformat": 4,
  "nbformat_minor": 0,
  "metadata": {
    "colab": {
      "provenance": [],
      "authorship_tag": "ABX9TyPFVr3Mf45IvG05Sbb7DCIz",
      "include_colab_link": true
    },
    "kernelspec": {
      "name": "python3",
      "display_name": "Python 3"
    },
    "language_info": {
      "name": "python"
    }
  },
  "cells": [
    {
      "cell_type": "markdown",
      "metadata": {
        "id": "view-in-github",
        "colab_type": "text"
      },
      "source": [
        "<a href=\"https://colab.research.google.com/github/dwivedianiket/stockMarketAnalysis/blob/main/Real_Time_Stock_Market_Analysis_and_Prediction_system.ipynb\" target=\"_parent\"><img src=\"https://colab.research.google.com/assets/colab-badge.svg\" alt=\"Open In Colab\"/></a>"
      ]
    },
    {
      "cell_type": "code",
      "source": [
        "!pip install dash\n",
        "!pip install plotly"
      ],
      "metadata": {
        "colab": {
          "base_uri": "https://localhost:8080/"
        },
        "id": "gP9J9R_cVGNZ",
        "outputId": "2ae26ed0-987f-4673-deb6-0eec8d4ee66d"
      },
      "execution_count": null,
      "outputs": [
        {
          "output_type": "stream",
          "name": "stdout",
          "text": [
            "Requirement already satisfied: dash in /usr/local/lib/python3.10/dist-packages (2.17.1)\n",
            "Requirement already satisfied: Flask<3.1,>=1.0.4 in /usr/local/lib/python3.10/dist-packages (from dash) (2.2.5)\n",
            "Requirement already satisfied: Werkzeug<3.1 in /usr/local/lib/python3.10/dist-packages (from dash) (3.0.4)\n",
            "Requirement already satisfied: plotly>=5.0.0 in /usr/local/lib/python3.10/dist-packages (from dash) (5.15.0)\n",
            "Requirement already satisfied: dash-html-components==2.0.0 in /usr/local/lib/python3.10/dist-packages (from dash) (2.0.0)\n",
            "Requirement already satisfied: dash-core-components==2.0.0 in /usr/local/lib/python3.10/dist-packages (from dash) (2.0.0)\n",
            "Requirement already satisfied: dash-table==5.0.0 in /usr/local/lib/python3.10/dist-packages (from dash) (5.0.0)\n",
            "Requirement already satisfied: importlib-metadata in /usr/local/lib/python3.10/dist-packages (from dash) (8.4.0)\n",
            "Requirement already satisfied: typing-extensions>=4.1.1 in /usr/local/lib/python3.10/dist-packages (from dash) (4.12.2)\n",
            "Requirement already satisfied: requests in /usr/local/lib/python3.10/dist-packages (from dash) (2.32.3)\n",
            "Requirement already satisfied: retrying in /usr/local/lib/python3.10/dist-packages (from dash) (1.3.4)\n",
            "Requirement already satisfied: nest-asyncio in /usr/local/lib/python3.10/dist-packages (from dash) (1.6.0)\n",
            "Requirement already satisfied: setuptools in /usr/local/lib/python3.10/dist-packages (from dash) (71.0.4)\n",
            "Requirement already satisfied: Jinja2>=3.0 in /usr/local/lib/python3.10/dist-packages (from Flask<3.1,>=1.0.4->dash) (3.1.4)\n",
            "Requirement already satisfied: itsdangerous>=2.0 in /usr/local/lib/python3.10/dist-packages (from Flask<3.1,>=1.0.4->dash) (2.2.0)\n",
            "Requirement already satisfied: click>=8.0 in /usr/local/lib/python3.10/dist-packages (from Flask<3.1,>=1.0.4->dash) (8.1.7)\n",
            "Requirement already satisfied: tenacity>=6.2.0 in /usr/local/lib/python3.10/dist-packages (from plotly>=5.0.0->dash) (9.0.0)\n",
            "Requirement already satisfied: packaging in /usr/local/lib/python3.10/dist-packages (from plotly>=5.0.0->dash) (24.1)\n",
            "Requirement already satisfied: MarkupSafe>=2.1.1 in /usr/local/lib/python3.10/dist-packages (from Werkzeug<3.1->dash) (2.1.5)\n",
            "Requirement already satisfied: zipp>=0.5 in /usr/local/lib/python3.10/dist-packages (from importlib-metadata->dash) (3.20.0)\n",
            "Requirement already satisfied: charset-normalizer<4,>=2 in /usr/local/lib/python3.10/dist-packages (from requests->dash) (3.3.2)\n",
            "Requirement already satisfied: idna<4,>=2.5 in /usr/local/lib/python3.10/dist-packages (from requests->dash) (3.7)\n",
            "Requirement already satisfied: urllib3<3,>=1.21.1 in /usr/local/lib/python3.10/dist-packages (from requests->dash) (2.0.7)\n",
            "Requirement already satisfied: certifi>=2017.4.17 in /usr/local/lib/python3.10/dist-packages (from requests->dash) (2024.7.4)\n",
            "Requirement already satisfied: six>=1.7.0 in /usr/local/lib/python3.10/dist-packages (from retrying->dash) (1.16.0)\n",
            "Requirement already satisfied: plotly in /usr/local/lib/python3.10/dist-packages (5.15.0)\n",
            "Requirement already satisfied: tenacity>=6.2.0 in /usr/local/lib/python3.10/dist-packages (from plotly) (9.0.0)\n",
            "Requirement already satisfied: packaging in /usr/local/lib/python3.10/dist-packages (from plotly) (24.1)\n"
          ]
        }
      ]
    },
    {
      "cell_type": "markdown",
      "source": [
        "Data Collection"
      ],
      "metadata": {
        "id": "03Xyi6c6URji"
      }
    },
    {
      "cell_type": "code",
      "execution_count": null,
      "metadata": {
        "colab": {
          "base_uri": "https://localhost:8080/"
        },
        "id": "fCuakgbwS29K",
        "outputId": "cccc8af0-bfc5-483e-815a-469ba6fdcbc9"
      },
      "outputs": [
        {
          "output_type": "stream",
          "name": "stdout",
          "text": [
            "                        Open     High      Low    Close  Volume\n",
            "2024-08-27 19:59:00  227.575  227.650  227.250  227.450  3529.0\n",
            "2024-08-27 19:58:00  227.471  227.575  227.471  227.575    72.0\n",
            "2024-08-27 19:57:00  227.650  227.650  227.520  227.550    81.0\n",
            "2024-08-27 19:56:00  227.525  227.650  227.400  227.520    76.0\n",
            "2024-08-27 19:55:00  227.525  227.650  227.400  227.400   369.0\n"
          ]
        }
      ],
      "source": [
        "import requests\n",
        "import pandas as pd\n",
        "import time\n",
        "from sklearn.model_selection import train_test_split, GridSearchCV, TimeSeriesSplit\n",
        "from sklearn.ensemble import RandomForestRegressor\n",
        "from sklearn.metrics import mean_squared_error\n",
        "from sklearn.preprocessing import StandardScaler\n",
        "from dash import Dash, dcc, html\n",
        "import plotly.graph_objs as go\n",
        "from dash.dependencies import Input, Output\n",
        "\n",
        "API_KEY = 'HEF3C8ZICXGWL1C4'  #Alpha Vantage API Key\n",
        "symbol = 'AAPL'  # Stock symbol\n",
        "\n",
        "def fetch_stock_data():\n",
        "    url = f'https://www.alphavantage.co/query?function=TIME_SERIES_INTRADAY&symbol={symbol}&interval=1min&apikey={API_KEY}'\n",
        "    response = requests.get(url)\n",
        "    data = response.json()\n",
        "    df = pd.DataFrame(data['Time Series (1min)']).transpose()\n",
        "    df.columns = ['Open', 'High', 'Low', 'Close', 'Volume']\n",
        "    df.index = pd.to_datetime(df.index)\n",
        "    df = df.astype(float)\n",
        "    return df\n",
        "\n",
        "df = fetch_stock_data()\n",
        "print(df.head())\n"
      ]
    },
    {
      "cell_type": "markdown",
      "source": [
        "Data Preprocessing"
      ],
      "metadata": {
        "id": "kUfXTF0YUVFn"
      }
    },
    {
      "cell_type": "code",
      "source": [
        "def preprocess_data(df):\n",
        "    # Calculate percentage change\n",
        "    df['Pct_Change'] = df['Close'].pct_change()\n",
        "\n",
        "    # Add lagged features\n",
        "    for lag in [1, 5, 10]:\n",
        "        df[f'Close_Lag_{lag}'] = df['Close'].shift(lag)\n",
        "        df[f'Volume_Lag_{lag}'] = df['Volume'].shift(lag)\n",
        "\n",
        "    # Calculate moving averages and volatility\n",
        "    df['Price_Change'] = df['Close'].diff()\n",
        "    df['SMA_10'] = df['Close'].rolling(window=10).mean()\n",
        "    df['SMA_50'] = df['Close'].rolling(window=50).mean()\n",
        "    df['Volatility'] = df['Close'].rolling(window=10).std()\n",
        "\n",
        "    # Drop rows with NaN values\n",
        "    df = df.dropna()\n",
        "\n",
        "    # Normalize features\n",
        "    scaler = StandardScaler()\n",
        "    features = ['Open', 'High', 'Low', 'Volume', 'SMA_10', 'SMA_50', 'Volatility', 'Pct_Change']\n",
        "    df[features] = scaler.fit_transform(df[features])\n",
        "\n",
        "    return df\n",
        "\n",
        "\n",
        "df = preprocess_data(df)\n",
        "print(df.head())\n"
      ],
      "metadata": {
        "colab": {
          "base_uri": "https://localhost:8080/"
        },
        "id": "OdjxOFa0UYsG",
        "outputId": "f1949dea-0287-4080-f55b-8902f69d8279"
      },
      "execution_count": null,
      "outputs": [
        {
          "output_type": "stream",
          "name": "stdout",
          "text": [
            "                         Open      High       Low    Close    Volume  \\\n",
            "2024-08-27 19:10:00  1.055438  1.530451  2.147646  227.770 -0.566050   \n",
            "2024-08-27 19:09:00  0.559790  0.958110  1.597175  227.750 -0.594756   \n",
            "2024-08-27 19:08:00  2.170645  1.673536  1.597175  227.670  0.226232   \n",
            "2024-08-27 19:07:00  1.922822  1.673536  1.363225  227.725  2.258608   \n",
            "2024-08-27 19:06:00  0.931526  1.530451  1.321939  227.650 -0.181391   \n",
            "\n",
            "                     Pct_Change  Close_Lag_1  Volume_Lag_1  Close_Lag_5  \\\n",
            "2024-08-27 19:10:00    0.257204      227.755         123.0      227.790   \n",
            "2024-08-27 19:09:00   -0.236710      227.770          20.0      227.755   \n",
            "2024-08-27 19:08:00   -1.083495      227.750           5.0      227.755   \n",
            "2024-08-27 19:07:00    0.821988      227.670         434.0      227.710   \n",
            "2024-08-27 19:06:00   -1.013048      227.725        1496.0      227.755   \n",
            "\n",
            "                     Volume_Lag_5  Close_Lag_10  Volume_Lag_10  Price_Change  \\\n",
            "2024-08-27 19:10:00         106.0       227.645           25.0         0.015   \n",
            "2024-08-27 19:09:00          55.0       227.550           10.0        -0.020   \n",
            "2024-08-27 19:08:00         238.0       227.640           20.0        -0.080   \n",
            "2024-08-27 19:07:00          11.0       227.550           30.0         0.055   \n",
            "2024-08-27 19:06:00         123.0       227.540          991.0        -0.075   \n",
            "\n",
            "                       SMA_10    SMA_50  Volatility  \n",
            "2024-08-27 19:10:00  0.979583 -2.387515    2.516439  \n",
            "2024-08-27 19:09:00  1.336878 -2.137751    1.962753  \n",
            "2024-08-27 19:08:00  1.390472 -2.058659    1.860756  \n",
            "2024-08-27 19:07:00  1.703105 -1.912964    0.807034  \n",
            "2024-08-27 19:06:00  1.899617 -1.804733   -0.806798  \n"
          ]
        },
        {
          "output_type": "stream",
          "name": "stderr",
          "text": [
            "<ipython-input-10-4839db01a59b>:22: SettingWithCopyWarning:\n",
            "\n",
            "\n",
            "A value is trying to be set on a copy of a slice from a DataFrame.\n",
            "Try using .loc[row_indexer,col_indexer] = value instead\n",
            "\n",
            "See the caveats in the documentation: https://pandas.pydata.org/pandas-docs/stable/user_guide/indexing.html#returning-a-view-versus-a-copy\n",
            "\n"
          ]
        }
      ]
    },
    {
      "cell_type": "markdown",
      "source": [
        "Model Development"
      ],
      "metadata": {
        "id": "uGNYVmmxUbuA"
      }
    },
    {
      "cell_type": "code",
      "source": [
        "def train_model(df):\n",
        "    X = df[['Open', 'High', 'Low', 'Volume', 'SMA_10', 'SMA_50', 'Volatility', 'Pct_Change']].values\n",
        "    y = df['Close'].values\n",
        "\n",
        "    # TimeSeriesSplit for cross-validation\n",
        "    tscv = TimeSeriesSplit(n_splits=5)\n",
        "\n",
        "    model = RandomForestRegressor(random_state=42)\n",
        "    param_grid = {\n",
        "        'n_estimators': [50, 100, 200],\n",
        "        'max_depth': [10, 20, 30],\n",
        "        'min_samples_split': [2, 5, 10]\n",
        "    }\n",
        "\n",
        "    grid_search = GridSearchCV(model, param_grid, cv=tscv, scoring='neg_mean_squared_error')\n",
        "    grid_search.fit(X, y)\n",
        "\n",
        "    best_model = grid_search.best_estimator_\n",
        "    best_params = grid_search.best_params_\n",
        "\n",
        "    print(f'Best Parameters: {best_params}')\n",
        "\n",
        "    # Evaluate model\n",
        "    predictions = best_model.predict(X)\n",
        "    mse = mean_squared_error(y, predictions)\n",
        "    print(f'Mean Squared Error on full dataset: {mse}')\n",
        "\n",
        "    return best_model\n",
        "\n",
        "model = train_model(df)\n"
      ],
      "metadata": {
        "colab": {
          "base_uri": "https://localhost:8080/"
        },
        "id": "H5MtpUecUePI",
        "outputId": "08470947-f0eb-4346-9b65-96a90a1b63fc"
      },
      "execution_count": null,
      "outputs": [
        {
          "output_type": "stream",
          "name": "stderr",
          "text": [
            "<ipython-input-10-4839db01a59b>:22: SettingWithCopyWarning:\n",
            "\n",
            "\n",
            "A value is trying to be set on a copy of a slice from a DataFrame.\n",
            "Try using .loc[row_indexer,col_indexer] = value instead\n",
            "\n",
            "See the caveats in the documentation: https://pandas.pydata.org/pandas-docs/stable/user_guide/indexing.html#returning-a-view-versus-a-copy\n",
            "\n"
          ]
        },
        {
          "output_type": "stream",
          "name": "stdout",
          "text": [
            "Best Parameters: {'max_depth': 10, 'min_samples_split': 10, 'n_estimators': 200}\n",
            "Mean Squared Error on full dataset: 0.0010288190741767865\n"
          ]
        }
      ]
    },
    {
      "cell_type": "markdown",
      "source": [
        "Real-Time Prediction"
      ],
      "metadata": {
        "id": "0CNzKwa-Uth-"
      }
    },
    {
      "cell_type": "code",
      "source": [
        "def predict_real_time(df, model):\n",
        "    X_real_time = df[['Open', 'High', 'Low', 'Volume', 'SMA_10', 'SMA_50', 'Volatility', 'Pct_Change']].values[-1:]\n",
        "    prediction = model.predict(X_real_time)\n",
        "    return prediction\n",
        "\n",
        "df = fetch_stock_data()\n",
        "df = preprocess_data(df)\n",
        "model = train_model(df)\n",
        "\n",
        "# Fetch new data and make a prediction\n",
        "latest_data = fetch_stock_data()\n",
        "processed_data = preprocess_data(latest_data)\n",
        "prediction = predict_real_time(processed_data, model)\n",
        "print(f'Real-Time Prediction: {prediction[0]}')"
      ],
      "metadata": {
        "colab": {
          "base_uri": "https://localhost:8080/"
        },
        "id": "saABSVmwUyzu",
        "outputId": "840fe09a-67a7-4391-9f66-73ffccf40ce9"
      },
      "execution_count": null,
      "outputs": [
        {
          "output_type": "stream",
          "name": "stderr",
          "text": [
            "<ipython-input-10-4839db01a59b>:22: SettingWithCopyWarning:\n",
            "\n",
            "\n",
            "A value is trying to be set on a copy of a slice from a DataFrame.\n",
            "Try using .loc[row_indexer,col_indexer] = value instead\n",
            "\n",
            "See the caveats in the documentation: https://pandas.pydata.org/pandas-docs/stable/user_guide/indexing.html#returning-a-view-versus-a-copy\n",
            "\n",
            "<ipython-input-10-4839db01a59b>:22: SettingWithCopyWarning:\n",
            "\n",
            "\n",
            "A value is trying to be set on a copy of a slice from a DataFrame.\n",
            "Try using .loc[row_indexer,col_indexer] = value instead\n",
            "\n",
            "See the caveats in the documentation: https://pandas.pydata.org/pandas-docs/stable/user_guide/indexing.html#returning-a-view-versus-a-copy\n",
            "\n"
          ]
        },
        {
          "output_type": "stream",
          "name": "stdout",
          "text": [
            "Best Parameters: {'max_depth': 10, 'min_samples_split': 10, 'n_estimators': 200}\n",
            "Mean Squared Error on full dataset: 0.0010288190741767865\n",
            "Real-Time Prediction: 227.5928727376088\n"
          ]
        },
        {
          "output_type": "stream",
          "name": "stderr",
          "text": [
            "<ipython-input-10-4839db01a59b>:22: SettingWithCopyWarning:\n",
            "\n",
            "\n",
            "A value is trying to be set on a copy of a slice from a DataFrame.\n",
            "Try using .loc[row_indexer,col_indexer] = value instead\n",
            "\n",
            "See the caveats in the documentation: https://pandas.pydata.org/pandas-docs/stable/user_guide/indexing.html#returning-a-view-versus-a-copy\n",
            "\n"
          ]
        }
      ]
    },
    {
      "cell_type": "markdown",
      "source": [
        "Visualization"
      ],
      "metadata": {
        "id": "RAi2QzL6U4Ln"
      }
    },
    {
      "cell_type": "code",
      "source": [
        "app = Dash(__name__)\n",
        "\n",
        "app.layout = html.Div([\n",
        "    dcc.Graph(id='price-graph'),\n",
        "    dcc.Graph(id='volume-graph'),\n",
        "    dcc.Interval(id='interval-component', interval=1*60000, n_intervals=0)  # Update every 1 minute\n",
        "])\n",
        "\n",
        "@app.callback(\n",
        "    Output('price-graph', 'figure'),\n",
        "    [Input('interval-component', 'n_intervals')]\n",
        ")\n",
        "def update_price_graph(n):\n",
        "    latest_data = fetch_stock_data()\n",
        "    processed_data = preprocess_data(latest_data)\n",
        "    prediction = predict_real_time(processed_data, model)\n",
        "\n",
        "    trace1 = go.Scatter(\n",
        "        x=processed_data.index,\n",
        "        y=processed_data['Close'],\n",
        "        mode='lines',\n",
        "        name='Actual Price'\n",
        "    )\n",
        "\n",
        "    trace2 = go.Scatter(\n",
        "        x=processed_data.index,\n",
        "        y=processed_data['SMA_10'],\n",
        "        mode='lines',\n",
        "        name='SMA 10'\n",
        "    )\n",
        "\n",
        "    trace3 = go.Scatter(\n",
        "        x=processed_data.index,\n",
        "        y=processed_data['SMA_50'],\n",
        "        mode='lines',\n",
        "        name='SMA 50'\n",
        "    )\n",
        "\n",
        "    trace4 = go.Scatter(\n",
        "        x=[processed_data.index[-1]],\n",
        "        y=[prediction[0]],\n",
        "        mode='markers',\n",
        "        name='Predicted Price',\n",
        "        marker=dict(size=10, color='red')\n",
        "    )\n",
        "\n",
        "    return {\n",
        "        'data': [trace1, trace2, trace3, trace4],\n",
        "        'layout': go.Layout(title=f'Real-Time Stock Price and SMA for {symbol}', xaxis_title='Time', yaxis_title='Price')\n",
        "    }\n",
        "\n",
        "@app.callback(\n",
        "    Output('volume-graph', 'figure'),\n",
        "    [Input('interval-component', 'n_intervals')]\n",
        ")\n",
        "def update_volume_graph(n):\n",
        "    latest_data = fetch_stock_data()\n",
        "    processed_data = preprocess_data(latest_data)\n",
        "\n",
        "    trace1 = go.Bar(\n",
        "        x=processed_data.index,\n",
        "        y=processed_data['Volume'],\n",
        "        name='Volume'\n",
        "    )\n",
        "\n",
        "    return {\n",
        "        'data': [trace1],\n",
        "        'layout': go.Layout(title=f'Real-Time Trading Volume for {symbol}', xaxis_title='Time', yaxis_title='Volume')\n",
        "    }\n",
        "\n",
        "if __name__ == '__main__':\n",
        "    app.run_server(debug=True)"
      ],
      "metadata": {
        "colab": {
          "base_uri": "https://localhost:8080/",
          "height": 671
        },
        "id": "CWb4g2ohU4-2",
        "outputId": "3ad7a266-4b9c-4cb1-f039-2e3f890b7c51"
      },
      "execution_count": 15,
      "outputs": [
        {
          "output_type": "display_data",
          "data": {
            "text/plain": [
              "<IPython.core.display.Javascript object>"
            ],
            "application/javascript": [
              "(async (port, path, width, height, cache, element) => {\n",
              "    if (!google.colab.kernel.accessAllowed && !cache) {\n",
              "      return;\n",
              "    }\n",
              "    element.appendChild(document.createTextNode(''));\n",
              "    const url = await google.colab.kernel.proxyPort(port, {cache});\n",
              "    const iframe = document.createElement('iframe');\n",
              "    iframe.src = new URL(path, url).toString();\n",
              "    iframe.height = height;\n",
              "    iframe.width = width;\n",
              "    iframe.style.border = 0;\n",
              "    iframe.allow = [\n",
              "        'accelerometer',\n",
              "        'autoplay',\n",
              "        'camera',\n",
              "        'clipboard-read',\n",
              "        'clipboard-write',\n",
              "        'gyroscope',\n",
              "        'magnetometer',\n",
              "        'microphone',\n",
              "        'serial',\n",
              "        'usb',\n",
              "        'xr-spatial-tracking',\n",
              "    ].join('; ');\n",
              "    element.appendChild(iframe);\n",
              "  })(8050, \"/\", \"100%\", 650, false, window.element)"
            ]
          },
          "metadata": {}
        }
      ]
    }
  ]
}